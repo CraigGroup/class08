{
 "cells": [
  {
   "cell_type": "markdown",
   "metadata": {
    "id": "834t49zymVdO"
   },
   "source": [
    "# In-class exercises Class 07\n",
    "\n",
    "---\n"
   ]
  },
  {
   "cell_type": "markdown",
   "metadata": {
    "slideshow": {
     "slide_type": "slide"
    }
   },
   "source": [
    "#### Lists, tuples and Dicts"
   ]
  },
  {
   "cell_type": "markdown",
   "metadata": {},
   "source": [
    "Python has three very useful data structures built into the language:\n",
    "\n",
    "* lists: [item, ...]\n",
    "* tuples: (item, ...)\n",
    "* dictionaries (hash tables): {}\n",
    "\n",
    "List is a [mutable](https://medium.com/@meghamohan/mutable-and-immutable-side-of-python-c2145cf72747) list of items. Tuple is a read-only data structure (immutable)."
   ]
  },
  {
   "cell_type": "markdown",
   "metadata": {
    "slideshow": {
     "slide_type": "slide"
    }
   },
   "source": [
    "#### Lists"
   ]
  },
  {
   "cell_type": "code",
   "execution_count": 7,
   "metadata": {
    "slideshow": {
     "slide_type": "-"
    }
   },
   "outputs": [
    {
     "name": "stdout",
     "output_type": "stream",
     "text": [
      "[1, 2, 3]\n"
     ]
    }
   ],
   "source": [
    "al=[1, 2, 3]  # defining a list\n",
    "print(al)\n"
   ]
  },
  {
   "cell_type": "markdown",
   "metadata": {},
   "source": [
    "We can access an entry based on it's index.  Remember!  Python starts counting at 0!"
   ]
  },
  {
   "cell_type": "code",
   "execution_count": 8,
   "metadata": {},
   "outputs": [
    {
     "name": "stdout",
     "output_type": "stream",
     "text": [
      "3\n"
     ]
    }
   ],
   "source": [
    "var=al[2]\n",
    "print(var)"
   ]
  },
  {
   "cell_type": "markdown",
   "metadata": {},
   "source": [
    "<br><br>\n",
    "<span style=\"color:red\"> ** EXERCISE 1a ** </span>:  Make a list of strings and print the first and last entry of the list to the screen"
   ]
  },
  {
   "cell_type": "code",
   "execution_count": 9,
   "metadata": {},
   "outputs": [],
   "source": [
    "# Put your code here"
   ]
  },
  {
   "cell_type": "markdown",
   "metadata": {},
   "source": [
    "<br><br>\n",
    "<span style=\"color:red\"> ** EXERCISE 1b: ** </span>  append an entry to your list.  Print the list to the screen.  Is your entry at the beginning or end?"
   ]
  },
  {
   "cell_type": "code",
   "execution_count": 4,
   "metadata": {},
   "outputs": [],
   "source": [
    "#Put your code here"
   ]
  },
  {
   "cell_type": "markdown",
   "metadata": {
    "slideshow": {
     "slide_type": "slide"
    }
   },
   "source": [
    "#### Tuples"
   ]
  },
  {
   "cell_type": "code",
   "execution_count": 4,
   "metadata": {
    "slideshow": {
     "slide_type": "-"
    }
   },
   "outputs": [
    {
     "name": "stdout",
     "output_type": "stream",
     "text": [
      "(1, 2, 3)\n"
     ]
    }
   ],
   "source": [
    "b=(1, 2, 3) # defining a tuple with ()s\n",
    "print(b)"
   ]
  },
  {
   "cell_type": "code",
   "execution_count": 5,
   "metadata": {},
   "outputs": [
    {
     "data": {
      "text/plain": [
       "(1, 2, 3)"
      ]
     },
     "execution_count": 5,
     "metadata": {},
     "output_type": "execute_result"
    }
   ],
   "source": [
    "1, 2, 3   # also defining a tuple without ()s"
   ]
  },
  {
   "cell_type": "code",
   "execution_count": 6,
   "metadata": {},
   "outputs": [
    {
     "name": "stdout",
     "output_type": "stream",
     "text": [
      "2\n"
     ]
    },
    {
     "ename": "TypeError",
     "evalue": "'tuple' object does not support item assignment",
     "output_type": "error",
     "traceback": [
      "\u001b[0;31m---------------------------------------------------------------------------\u001b[0m",
      "\u001b[0;31mTypeError\u001b[0m                                 Traceback (most recent call last)",
      "\u001b[0;32m<ipython-input-6-1c6ac9c8a44d>\u001b[0m in \u001b[0;36m<module>\u001b[0;34m\u001b[0m\n\u001b[1;32m      1\u001b[0m \u001b[0mprint\u001b[0m\u001b[0;34m(\u001b[0m\u001b[0mb\u001b[0m\u001b[0;34m[\u001b[0m\u001b[0;36m1\u001b[0m\u001b[0;34m]\u001b[0m\u001b[0;34m)\u001b[0m  \u001b[0;31m# tuples may be accesed by index\u001b[0m\u001b[0;34m\u001b[0m\u001b[0;34m\u001b[0m\u001b[0m\n\u001b[0;32m----> 2\u001b[0;31m \u001b[0mb\u001b[0m\u001b[0;34m[\u001b[0m\u001b[0;36m1\u001b[0m\u001b[0;34m]\u001b[0m \u001b[0;34m=\u001b[0m \u001b[0;36m0.1\u001b[0m   \u001b[0;31m# but they are immutable (cannot be changed)\u001b[0m\u001b[0;34m\u001b[0m\u001b[0;34m\u001b[0m\u001b[0m\n\u001b[0m",
      "\u001b[0;31mTypeError\u001b[0m: 'tuple' object does not support item assignment"
     ]
    }
   ],
   "source": [
    "print(b[1])  # tuples may be accesed by index\n",
    "b[1] = 0.1   # but they are immutable (cannot be changed)"
   ]
  },
  {
   "cell_type": "markdown",
   "metadata": {},
   "source": [
    "They can't be changed after you make them!\n",
    "<br><br>\n",
    "\n",
    "<span style=\"color:red\"> ** EXERCISE 2a: ** </span>   Append an item to tuple \"b\" from above.  What happens?  "
   ]
  },
  {
   "cell_type": "code",
   "execution_count": 6,
   "metadata": {},
   "outputs": [],
   "source": [
    "#Put your code here\n"
   ]
  },
  {
   "cell_type": "markdown",
   "metadata": {
    "slideshow": {
     "slide_type": "slide"
    }
   },
   "source": [
    "#### Dictionaries"
   ]
  },
  {
   "cell_type": "code",
   "execution_count": null,
   "metadata": {
    "slideshow": {
     "slide_type": "-"
    }
   },
   "outputs": [],
   "source": [
    "d={\"apple\": \"a fruit\", \"banana\": \"an herb\", \"monkey\": \"a mammal\"}  # defining a dictionary\n",
    "d"
   ]
  },
  {
   "cell_type": "code",
   "execution_count": null,
   "metadata": {},
   "outputs": [],
   "source": [
    "d[\"apple\"]"
   ]
  },
  {
   "cell_type": "markdown",
   "metadata": {},
   "source": [
    "<br><br>\n",
    "<span style=\"color:red\">  EXERCISE 3: </span>   Append an item to dictionary \"d\" from above. How is the syntax different from a list?  "
   ]
  },
  {
   "cell_type": "code",
   "execution_count": 7,
   "metadata": {},
   "outputs": [],
   "source": [
    "#Put your code here"
   ]
  },
  {
   "cell_type": "markdown",
   "metadata": {
    "slideshow": {
     "slide_type": "slide"
    }
   },
   "source": [
    "## Iterating on lists"
   ]
  },
  {
   "cell_type": "code",
   "execution_count": 8,
   "metadata": {
    "slideshow": {
     "slide_type": "-"
    }
   },
   "outputs": [
    {
     "name": "stdout",
     "output_type": "stream",
     "text": [
      "1\n",
      "2\n",
      "3\n"
     ]
    }
   ],
   "source": [
    "for x in al:      # equivalent to:  for i in range(len(al)):\n",
    "    print(x)      #                     print al[i]"
   ]
  },
  {
   "cell_type": "code",
   "execution_count": 9,
   "metadata": {},
   "outputs": [
    {
     "name": "stdout",
     "output_type": "stream",
     "text": [
      "0\n",
      "1\n",
      "2\n"
     ]
    }
   ],
   "source": [
    "n=len(al)\n",
    "for i in range(n):  # range generates a list from 0 .. n-1\n",
    "    print(i)"
   ]
  },
  {
   "cell_type": "code",
   "execution_count": 10,
   "metadata": {
    "slideshow": {
     "slide_type": "-"
    }
   },
   "outputs": [
    {
     "name": "stdout",
     "output_type": "stream",
     "text": [
      "1\n",
      "2\n",
      "3\n"
     ]
    }
   ],
   "source": [
    "for i in range(len(al)):  # equivalently\n",
    "    print(al[i])"
   ]
  },
  {
   "cell_type": "markdown",
   "metadata": {
    "slideshow": {
     "slide_type": "slide"
    }
   },
   "source": [
    "## [list comprehension](https://www.pythonforbeginners.com/basics/list-comprehensions-in-python) (advanced)\n",
    "An implied loop which operates on a list and outputs another list: ```[ expression for item in list if conditional ]``` <br>\n",
    "some brief examples:"
   ]
  },
  {
   "cell_type": "code",
   "execution_count": 11,
   "metadata": {},
   "outputs": [
    {
     "name": "stdout",
     "output_type": "stream",
     "text": [
      "[0, 1, 2, 3, 4, 5, 6, 7, 8, 9]\n",
      "[0, 3, 6, 9]\n",
      "[0, 27, 216, 729]\n",
      "['n', 't']\n"
     ]
    }
   ],
   "source": [
    "a=[ x for x in range(10) ]\n",
    "print(a)\n",
    "b=[ x for x in range(10) if x%3==0 ]\n",
    "print(b)\n",
    "c=[ x**3 for x in b ]\n",
    "print(c)\n",
    "q=[\"abc\",\"def\",\"hij\",\"klm\",\"nop\",\"qrs\",\"tuv\",\"wxy\"]\n",
    "d=[x[0] for x in q if 'o' in x or 'u' in x]\n",
    "print(d)"
   ]
  },
  {
   "cell_type": "markdown",
   "metadata": {},
   "source": [
    "Think carefully!  Do you understand what is going on in these advanced examples?"
   ]
  },
  {
   "cell_type": "markdown",
   "metadata": {
    "id": "LtUfjI3ECVZ0"
   },
   "source": [
    "# fstrings"
   ]
  },
  {
   "cell_type": "markdown",
   "metadata": {
    "id": "8H0PL36ICVZ1"
   },
   "source": [
    "In this notebook, we are going to cover how to **build strings out of variables and strings**. This is a very common task in Python."
   ]
  },
  {
   "cell_type": "markdown",
   "metadata": {
    "id": "rlqs0OujCVZ1"
   },
   "source": [
    "#### Some examples (the 'old' way):"
   ]
  },
  {
   "cell_type": "markdown",
   "metadata": {
    "id": "4h3ubk6aCVZ2"
   },
   "source": [
    "**Building filenames**"
   ]
  },
  {
   "cell_type": "code",
   "execution_count": 12,
   "metadata": {
    "colab": {
     "base_uri": "https://localhost:8080/"
    },
    "executionInfo": {
     "elapsed": 15,
     "status": "ok",
     "timestamp": 1643989591922,
     "user": {
      "displayName": "Craig Group",
      "photoUrl": "https://lh3.googleusercontent.com/a-/AOh14GjJlzY0zYyBqtvLv2_RoJ8s67jfBlUr5NW1mc-6sA=s64",
      "userId": "15034791967993784526"
     },
     "user_tz": 300
    },
    "id": "phE9CpJLCVZ2",
    "outputId": "a79be403-243c-4a91-9485-4086c14bd9f8"
   },
   "outputs": [
    {
     "name": "stdout",
     "output_type": "stream",
     "text": [
      "myfile_ver2\n"
     ]
    }
   ],
   "source": [
    "old_filename = \"myfile\"\n",
    "new_filename = old_filename + \"_ver2\"\n",
    "print(new_filename)"
   ]
  },
  {
   "cell_type": "markdown",
   "metadata": {
    "id": "FvQzk8ICCVZ3"
   },
   "source": [
    "**Reporting results**"
   ]
  },
  {
   "cell_type": "code",
   "execution_count": 13,
   "metadata": {
    "colab": {
     "base_uri": "https://localhost:8080/"
    },
    "executionInfo": {
     "elapsed": 14,
     "status": "ok",
     "timestamp": 1643989591922,
     "user": {
      "displayName": "Craig Group",
      "photoUrl": "https://lh3.googleusercontent.com/a-/AOh14GjJlzY0zYyBqtvLv2_RoJ8s67jfBlUr5NW1mc-6sA=s64",
      "userId": "15034791967993784526"
     },
     "user_tz": 300
    },
    "id": "NipGfCR1CVZ3",
    "outputId": "57d8c381-fc87-418a-a968-4c6d4e166a99"
   },
   "outputs": [
    {
     "name": "stdout",
     "output_type": "stream",
     "text": [
      "The mean size is 7.3\n"
     ]
    }
   ],
   "source": [
    "size_list = [5.4, 8.4, 9.2, 4.7, 8.8]\n",
    "print(\"The mean size is \" + str(sum(size_list)/len(size_list)))"
   ]
  },
  {
   "cell_type": "markdown",
   "metadata": {
    "id": "VOa6ousHCVZ4"
   },
   "source": [
    "It can be annnoying to remember to convert things to strings...  \n",
    "\n",
    "**Creating unique identifiers**"
   ]
  },
  {
   "cell_type": "code",
   "execution_count": 14,
   "metadata": {
    "colab": {
     "base_uri": "https://localhost:8080/"
    },
    "executionInfo": {
     "elapsed": 10,
     "status": "ok",
     "timestamp": 1643989591923,
     "user": {
      "displayName": "Craig Group",
      "photoUrl": "https://lh3.googleusercontent.com/a-/AOh14GjJlzY0zYyBqtvLv2_RoJ8s67jfBlUr5NW1mc-6sA=s64",
      "userId": "15034791967993784526"
     },
     "user_tz": 300
    },
    "id": "dU1M9Nl6CVZ4",
    "outputId": "c08ebc40-4b91-4944-bd0a-778845a21fc7"
   },
   "outputs": [
    {
     "name": "stdout",
     "output_type": "stream",
     "text": [
      "6_control_010420\n"
     ]
    }
   ],
   "source": [
    "run_num = \"6\"\n",
    "condition = \"control\"\n",
    "date = \"010420\"\n",
    "ID = run_num + \"_\" + condition + \"_\" + date\n",
    "print(ID)"
   ]
  },
  {
   "cell_type": "markdown",
   "metadata": {
    "id": "Slo8DWTrCVZ4"
   },
   "source": [
    "<br><br>In those examples, we built strings using the `+` operator.  This works, but can be cumbersome.  \n",
    "<br><br>Using `+` between strings and variables results in long lines of code and can lead to some common user errors (e.g. forgetting to convert numbers to strings, forgetting spaces and punctuation around the variables).\n",
    "<br><br>In Python version 3.6, a new method was introduced for building strings that prevents many common user errors by moving the variable names into the string. These are called **fstrings**."
   ]
  },
  {
   "cell_type": "markdown",
   "metadata": {
    "id": "I7RQbg4OCVZ4"
   },
   "source": [
    "### <br><br>fstring syntax"
   ]
  },
  {
   "cell_type": "code",
   "execution_count": 15,
   "metadata": {
    "executionInfo": {
     "elapsed": 9,
     "status": "ok",
     "timestamp": 1643989591924,
     "user": {
      "displayName": "Craig Group",
      "photoUrl": "https://lh3.googleusercontent.com/a-/AOh14GjJlzY0zYyBqtvLv2_RoJ8s67jfBlUr5NW1mc-6sA=s64",
      "userId": "15034791967993784526"
     },
     "user_tz": 300
    },
    "id": "1jW2QnUnCVZ6"
   },
   "outputs": [],
   "source": [
    "old_filename = \"myFile\"\n",
    "version = \"2\""
   ]
  },
  {
   "cell_type": "code",
   "execution_count": 16,
   "metadata": {
    "colab": {
     "base_uri": "https://localhost:8080/"
    },
    "executionInfo": {
     "elapsed": 9,
     "status": "ok",
     "timestamp": 1643989591925,
     "user": {
      "displayName": "Craig Group",
      "photoUrl": "https://lh3.googleusercontent.com/a-/AOh14GjJlzY0zYyBqtvLv2_RoJ8s67jfBlUr5NW1mc-6sA=s64",
      "userId": "15034791967993784526"
     },
     "user_tz": 300
    },
    "id": "NFtFFDhSCVZ6",
    "outputId": "78ba9d2a-ea25-4eb1-ed9d-feb7e6df1a63"
   },
   "outputs": [
    {
     "name": "stdout",
     "output_type": "stream",
     "text": [
      "myFile_ver2\n"
     ]
    }
   ],
   "source": [
    "new_filename = f\"{old_filename}_ver{version}\"\n",
    "print(new_filename)"
   ]
  },
  {
   "cell_type": "markdown",
   "metadata": {
    "id": "GDnTBT12CVZ6"
   },
   "source": [
    "<br>fstrings begin with the letter `f` followed by the opening quotation mark. <br>You can use either a single or double quotation mark, just like with an ordinary string.\n",
    "<br>Do not put a space between `f` and the first `\"`."
   ]
  },
  {
   "cell_type": "markdown",
   "metadata": {
    "id": "LZpCQVzJCVZ6"
   },
   "source": [
    "<br> Variable names now go inside curly brackets inside the string."
   ]
  },
  {
   "cell_type": "markdown",
   "metadata": {
    "id": "TJQtnipvCVZ6"
   },
   "source": [
    "The string ends with the closing quotation mark."
   ]
  },
  {
   "cell_type": "markdown",
   "metadata": {
    "id": "unRrhG9UCVZ6"
   },
   "source": [
    "<br>Here's an example using single quotation marks:"
   ]
  },
  {
   "cell_type": "code",
   "execution_count": 17,
   "metadata": {
    "colab": {
     "base_uri": "https://localhost:8080/"
    },
    "executionInfo": {
     "elapsed": 9,
     "status": "ok",
     "timestamp": 1643989592071,
     "user": {
      "displayName": "Craig Group",
      "photoUrl": "https://lh3.googleusercontent.com/a-/AOh14GjJlzY0zYyBqtvLv2_RoJ8s67jfBlUr5NW1mc-6sA=s64",
      "userId": "15034791967993784526"
     },
     "user_tz": 300
    },
    "id": "OdDidILBCVZ7",
    "outputId": "cf50a2b7-3214-4974-ef52-020122f7758f"
   },
   "outputs": [
    {
     "name": "stdout",
     "output_type": "stream",
     "text": [
      "myFile_ver2\n"
     ]
    }
   ],
   "source": [
    "new_filename = f'{old_filename}_ver{version}'\n",
    "print(new_filename)"
   ]
  },
  {
   "cell_type": "markdown",
   "metadata": {
    "id": "p2Dj8ekoCVZ7"
   },
   "source": [
    "<br>And here's an example with a space between the `f` and the first `\"`:"
   ]
  },
  {
   "cell_type": "code",
   "execution_count": 19,
   "metadata": {
    "colab": {
     "base_uri": "https://localhost:8080/",
     "height": 132
    },
    "executionInfo": {
     "elapsed": 7,
     "status": "error",
     "timestamp": 1643989592072,
     "user": {
      "displayName": "Craig Group",
      "photoUrl": "https://lh3.googleusercontent.com/a-/AOh14GjJlzY0zYyBqtvLv2_RoJ8s67jfBlUr5NW1mc-6sA=s64",
      "userId": "15034791967993784526"
     },
     "user_tz": 300
    },
    "id": "g_Nuy9p3CVZ7",
    "outputId": "7cf09ff3-052f-4d9a-b289-e076bf880cb7"
   },
   "outputs": [
    {
     "ename": "SyntaxError",
     "evalue": "invalid syntax (<ipython-input-19-d7125dbac27b>, line 1)",
     "output_type": "error",
     "traceback": [
      "\u001b[0;36m  File \u001b[0;32m\"<ipython-input-19-d7125dbac27b>\"\u001b[0;36m, line \u001b[0;32m1\u001b[0m\n\u001b[0;31m    new_filename = f \"{old_filename}_ver{version}\"\u001b[0m\n\u001b[0m                     ^\u001b[0m\n\u001b[0;31mSyntaxError\u001b[0m\u001b[0;31m:\u001b[0m invalid syntax\n"
     ]
    }
   ],
   "source": [
    "new_filename = f \"{old_filename}_ver{version}\"\n",
    "print(new_filename)"
   ]
  },
  {
   "cell_type": "markdown",
   "metadata": {},
   "source": [
    "Of course, that does not work!!!"
   ]
  },
  {
   "cell_type": "markdown",
   "metadata": {
    "id": "eV90qa3rCVZ7"
   },
   "source": [
    "# <br><br>fstring examples and practice exercises"
   ]
  },
  {
   "cell_type": "markdown",
   "metadata": {
    "id": "0UmZ6WsaCVZ7"
   },
   "source": [
    "## <br><br>Example 1 - fstrings with variables"
   ]
  },
  {
   "cell_type": "code",
   "execution_count": 20,
   "metadata": {
    "id": "XPUTJdHrCVZ7"
   },
   "outputs": [],
   "source": [
    "name = \"Colby\"\n",
    "adj = \"adventurous\""
   ]
  },
  {
   "cell_type": "markdown",
   "metadata": {
    "id": "LmCOPjYLCVZ7"
   },
   "source": [
    "<br>**Old way:**"
   ]
  },
  {
   "cell_type": "code",
   "execution_count": 21,
   "metadata": {
    "id": "j8jUHH-6CVZ8"
   },
   "outputs": [
    {
     "name": "stdout",
     "output_type": "stream",
     "text": [
      "Happy Birthday, Colby! Have an adventurous day.\n"
     ]
    }
   ],
   "source": [
    "hb = \"Happy Birthday, \" + name + \"! Have an \" + adj + \" day.\"\n",
    "print(hb)"
   ]
  },
  {
   "cell_type": "markdown",
   "metadata": {
    "id": "mn59k1RPCVZ8"
   },
   "source": [
    "<br>**fstring:**"
   ]
  },
  {
   "cell_type": "code",
   "execution_count": 22,
   "metadata": {
    "id": "7JwhRIGKCVZ8"
   },
   "outputs": [
    {
     "name": "stdout",
     "output_type": "stream",
     "text": [
      "Happy Birthday, Colby! Have an adventurous day.\n"
     ]
    }
   ],
   "source": [
    "hb = f\"Happy Birthday, {name}! Have an {adj} day.\"\n",
    "print(hb)"
   ]
  },
  {
   "cell_type": "markdown",
   "metadata": {
    "id": "DrbDwtMWCVZ8"
   },
   "source": [
    "<br><br>If you want to include curly brackets in a string, you can surround them with another set of curly brackets."
   ]
  },
  {
   "cell_type": "code",
   "execution_count": 23,
   "metadata": {
    "id": "WbE6BA0hCVZ8"
   },
   "outputs": [
    {
     "name": "stdout",
     "output_type": "stream",
     "text": [
      "Happy Birthday, {name}! Have a adventurous day. {}\n"
     ]
    }
   ],
   "source": [
    "hb = f\"Happy Birthday, {{name}}! Have a {adj} day. {{}}\"\n",
    "print(hb)"
   ]
  },
  {
   "cell_type": "markdown",
   "metadata": {},
   "source": [
    "<span style=\"color:red\"> ** EXERCISE 4: ** </span>  "
   ]
  },
  {
   "cell_type": "markdown",
   "metadata": {
    "id": "kbhS7ALCCVZ8"
   },
   "source": [
    "First run this cell:"
   ]
  },
  {
   "cell_type": "code",
   "execution_count": 24,
   "metadata": {
    "id": "AQF3yN9BCVZ8"
   },
   "outputs": [],
   "source": [
    "animal = \"tiger\"\n",
    "month = \"February\"\n",
    "day = 1\n",
    "year = 2022"
   ]
  },
  {
   "cell_type": "markdown",
   "metadata": {
    "id": "4pYT1mzKCVZ9"
   },
   "source": [
    "<br>Now write an fstring to print: \"The year of the tiger will begin on February 1, 2022.\""
   ]
  },
  {
   "cell_type": "code",
   "execution_count": 25,
   "metadata": {
    "colab": {
     "base_uri": "https://localhost:8080/"
    },
    "executionInfo": {
     "elapsed": 158,
     "status": "ok",
     "timestamp": 1643908232964,
     "user": {
      "displayName": "Craig Group",
      "photoUrl": "https://lh3.googleusercontent.com/a-/AOh14GjJlzY0zYyBqtvLv2_RoJ8s67jfBlUr5NW1mc-6sA=s64",
      "userId": "15034791967993784526"
     },
     "user_tz": 300
    },
    "id": "IHNeQ1jmCVZ9",
    "outputId": "4bf540fb-2bd3-4c57-96ab-3fa3d2287e3c"
   },
   "outputs": [
    {
     "name": "stdout",
     "output_type": "stream",
     "text": [
      "\n"
     ]
    }
   ],
   "source": [
    "sentence = \"\"\n",
    "\n",
    "print(sentence)"
   ]
  },
  {
   "cell_type": "markdown",
   "metadata": {
    "id": "qOquSkdYCVZ9"
   },
   "source": [
    "## <br>Example 2 - fstrings with numbers and functions"
   ]
  },
  {
   "cell_type": "markdown",
   "metadata": {
    "id": "UqtZPQEPCVZ9"
   },
   "source": [
    "Using the old way, you could only concatenate strings and not integers/floats"
   ]
  },
  {
   "cell_type": "code",
   "execution_count": 26,
   "metadata": {
    "id": "Vp5p5N0mCVZ9"
   },
   "outputs": [],
   "source": [
    "count = 3.5"
   ]
  },
  {
   "cell_type": "markdown",
   "metadata": {
    "id": "VNgrv7e7CVZ9"
   },
   "source": [
    "<br>**Old way:**"
   ]
  },
  {
   "cell_type": "code",
   "execution_count": 27,
   "metadata": {
    "colab": {
     "base_uri": "https://localhost:8080/",
     "height": 167
    },
    "executionInfo": {
     "elapsed": 166,
     "status": "error",
     "timestamp": 1643908278106,
     "user": {
      "displayName": "Craig Group",
      "photoUrl": "https://lh3.googleusercontent.com/a-/AOh14GjJlzY0zYyBqtvLv2_RoJ8s67jfBlUr5NW1mc-6sA=s64",
      "userId": "15034791967993784526"
     },
     "user_tz": 300
    },
    "id": "n6M5Ke7yCVZ9",
    "outputId": "00df3a49-22be-497c-cc78-b03f7002d6bc"
   },
   "outputs": [
    {
     "ename": "TypeError",
     "evalue": "can only concatenate str (not \"float\") to str",
     "output_type": "error",
     "traceback": [
      "\u001b[0;31m---------------------------------------------------------------------------\u001b[0m",
      "\u001b[0;31mTypeError\u001b[0m                                 Traceback (most recent call last)",
      "\u001b[0;32m<ipython-input-27-08e7472b38fb>\u001b[0m in \u001b[0;36m<module>\u001b[0;34m\u001b[0m\n\u001b[0;32m----> 1\u001b[0;31m \u001b[0mprint\u001b[0m\u001b[0;34m(\u001b[0m\u001b[0;34m\"Yesterday I ate \"\u001b[0m \u001b[0;34m+\u001b[0m \u001b[0mcount\u001b[0m \u001b[0;34m+\u001b[0m \u001b[0;34m\" cookies.\"\u001b[0m\u001b[0;34m)\u001b[0m\u001b[0;34m\u001b[0m\u001b[0;34m\u001b[0m\u001b[0m\n\u001b[0m",
      "\u001b[0;31mTypeError\u001b[0m: can only concatenate str (not \"float\") to str"
     ]
    }
   ],
   "source": [
    "print(\"Yesterday I ate \" + count + \" cookies.\")"
   ]
  },
  {
   "cell_type": "markdown",
   "metadata": {
    "id": "w5tAV8_cCVZ9"
   },
   "source": [
    "<br>We would have to explicitly change `count` to a string in order to include it in the string:"
   ]
  },
  {
   "cell_type": "code",
   "execution_count": 28,
   "metadata": {
    "colab": {
     "base_uri": "https://localhost:8080/"
    },
    "executionInfo": {
     "elapsed": 234,
     "status": "ok",
     "timestamp": 1643908280616,
     "user": {
      "displayName": "Craig Group",
      "photoUrl": "https://lh3.googleusercontent.com/a-/AOh14GjJlzY0zYyBqtvLv2_RoJ8s67jfBlUr5NW1mc-6sA=s64",
      "userId": "15034791967993784526"
     },
     "user_tz": 300
    },
    "id": "s6kD2ebGCVZ9",
    "outputId": "7c6e108e-4459-40a1-f9c2-e8024967ef7e"
   },
   "outputs": [
    {
     "name": "stdout",
     "output_type": "stream",
     "text": [
      "Yesterday I ate 3.5 cookies.\n"
     ]
    }
   ],
   "source": [
    "print(\"Yesterday I ate \" + str(count) + \" cookies.\")"
   ]
  },
  {
   "cell_type": "markdown",
   "metadata": {
    "id": "pXemwUljCVZ9"
   },
   "source": [
    "<br>**fstring:**"
   ]
  },
  {
   "cell_type": "markdown",
   "metadata": {
    "id": "cJYb1WAiCVZ9"
   },
   "source": [
    "An fstring automatically changes any integer or float to a string:"
   ]
  },
  {
   "cell_type": "code",
   "execution_count": 29,
   "metadata": {
    "colab": {
     "base_uri": "https://localhost:8080/"
    },
    "executionInfo": {
     "elapsed": 129,
     "status": "ok",
     "timestamp": 1643908287042,
     "user": {
      "displayName": "Craig Group",
      "photoUrl": "https://lh3.googleusercontent.com/a-/AOh14GjJlzY0zYyBqtvLv2_RoJ8s67jfBlUr5NW1mc-6sA=s64",
      "userId": "15034791967993784526"
     },
     "user_tz": 300
    },
    "id": "SFByIm7CCVZ-",
    "outputId": "21f612c4-46e4-4cb8-fb38-8ff82f1d2729"
   },
   "outputs": [
    {
     "name": "stdout",
     "output_type": "stream",
     "text": [
      "Yesterday I ate 3.5 cookies.\n"
     ]
    }
   ],
   "source": [
    "print(f\"Yesterday I ate {count} cookies.\")"
   ]
  },
  {
   "cell_type": "markdown",
   "metadata": {
    "id": "PPUqz-LICVZ-"
   },
   "source": [
    "Now, that is convenient!\n",
    "\n",
    "\n",
    "#### <br><br>fstrings aren't only for variables!!"
   ]
  },
  {
   "cell_type": "markdown",
   "metadata": {
    "id": "HoIHmdhOCVZ-"
   },
   "source": [
    "You can include calculations and call functions inside the curly brackets of an fstring."
   ]
  },
  {
   "cell_type": "code",
   "execution_count": 30,
   "metadata": {
    "colab": {
     "base_uri": "https://localhost:8080/",
     "height": 35
    },
    "executionInfo": {
     "elapsed": 171,
     "status": "ok",
     "timestamp": 1643908295059,
     "user": {
      "displayName": "Craig Group",
      "photoUrl": "https://lh3.googleusercontent.com/a-/AOh14GjJlzY0zYyBqtvLv2_RoJ8s67jfBlUr5NW1mc-6sA=s64",
      "userId": "15034791967993784526"
     },
     "user_tz": 300
    },
    "id": "T0NClkRaCVZ-",
    "outputId": "c8db72b0-450a-4848-d716-f9fde907af38"
   },
   "outputs": [
    {
     "data": {
      "text/plain": [
       "'I ate 11 kiwis.'"
      ]
     },
     "execution_count": 30,
     "metadata": {},
     "output_type": "execute_result"
    }
   ],
   "source": [
    "f\"I ate {6 + 5} kiwis.\""
   ]
  },
  {
   "cell_type": "code",
   "execution_count": 31,
   "metadata": {
    "colab": {
     "base_uri": "https://localhost:8080/",
     "height": 35
    },
    "executionInfo": {
     "elapsed": 148,
     "status": "ok",
     "timestamp": 1643908298541,
     "user": {
      "displayName": "Craig Group",
      "photoUrl": "https://lh3.googleusercontent.com/a-/AOh14GjJlzY0zYyBqtvLv2_RoJ8s67jfBlUr5NW1mc-6sA=s64",
      "userId": "15034791967993784526"
     },
     "user_tz": 300
    },
    "id": "S089vRwiCVZ-",
    "outputId": "5ef8c380-988d-471e-d4dd-ba2d7ca82adb"
   },
   "outputs": [
    {
     "data": {
      "text/plain": [
       "'I ate 102.4 kiwis.'"
      ]
     },
     "execution_count": 31,
     "metadata": {},
     "output_type": "execute_result"
    }
   ],
   "source": [
    "f\"I ate {2**10 / (13-3)} kiwis.\""
   ]
  },
  {
   "cell_type": "code",
   "execution_count": 32,
   "metadata": {
    "colab": {
     "base_uri": "https://localhost:8080/",
     "height": 35
    },
    "executionInfo": {
     "elapsed": 241,
     "status": "ok",
     "timestamp": 1643908304983,
     "user": {
      "displayName": "Craig Group",
      "photoUrl": "https://lh3.googleusercontent.com/a-/AOh14GjJlzY0zYyBqtvLv2_RoJ8s67jfBlUr5NW1mc-6sA=s64",
      "userId": "15034791967993784526"
     },
     "user_tz": 300
    },
    "id": "SabYtzRfCVZ-",
    "outputId": "80d0ddb2-c261-4d4d-9019-200c862f1a9a"
   },
   "outputs": [
    {
     "data": {
      "text/plain": [
       "'I ate 39 kiwis.'"
      ]
     },
     "execution_count": 32,
     "metadata": {},
     "output_type": "execute_result"
    }
   ],
   "source": [
    "kiwi_piles = [10, 9, 13, 7]\n",
    "f\"I ate {sum(kiwi_piles)} kiwis.\""
   ]
  },
  {
   "cell_type": "code",
   "execution_count": 33,
   "metadata": {
    "colab": {
     "base_uri": "https://localhost:8080/",
     "height": 35
    },
    "executionInfo": {
     "elapsed": 155,
     "status": "ok",
     "timestamp": 1643908307559,
     "user": {
      "displayName": "Craig Group",
      "photoUrl": "https://lh3.googleusercontent.com/a-/AOh14GjJlzY0zYyBqtvLv2_RoJ8s67jfBlUr5NW1mc-6sA=s64",
      "userId": "15034791967993784526"
     },
     "user_tz": 300
    },
    "id": "maiXcmENCVZ-",
    "outputId": "cbb7bd73-574e-4900-93f8-31b5bef6e5db"
   },
   "outputs": [
    {
     "data": {
      "text/plain": [
       "'I ate ONE HUNDRED kiwis.'"
      ]
     },
     "execution_count": 33,
     "metadata": {},
     "output_type": "execute_result"
    }
   ],
   "source": [
    "kiwi_dreams = \"one hundred\"\n",
    "f\"I ate {kiwi_dreams.upper()} kiwis.\""
   ]
  },
  {
   "cell_type": "markdown",
   "metadata": {},
   "source": [
    "<span style=\"color:red\"> ** EXERCISE 5: **  </span>"
   ]
  },
  {
   "cell_type": "code",
   "execution_count": 34,
   "metadata": {
    "id": "jT_ZxCHTCVZ-"
   },
   "outputs": [],
   "source": [
    "name = \"Colby\"\n",
    "count = 11"
   ]
  },
  {
   "cell_type": "markdown",
   "metadata": {
    "id": "22RdlBKuCVZ-"
   },
   "source": [
    "I said I ate 11 kiwis, but you saw me eat 3 more kiwis in secret. Change the code below to reflect the truth:"
   ]
  },
  {
   "cell_type": "code",
   "execution_count": 35,
   "metadata": {
    "colab": {
     "base_uri": "https://localhost:8080/"
    },
    "executionInfo": {
     "elapsed": 136,
     "status": "ok",
     "timestamp": 1643908339452,
     "user": {
      "displayName": "Craig Group",
      "photoUrl": "https://lh3.googleusercontent.com/a-/AOh14GjJlzY0zYyBqtvLv2_RoJ8s67jfBlUr5NW1mc-6sA=s64",
      "userId": "15034791967993784526"
     },
     "user_tz": 300
    },
    "id": "oe45SgrWCVZ-",
    "outputId": "eadcd9f6-a578-4600-eb8d-147905ae3db3"
   },
   "outputs": [
    {
     "name": "stdout",
     "output_type": "stream",
     "text": [
      "Colby ate 11 kiwis.\n"
     ]
    }
   ],
   "source": [
    "print(f\"{name} ate {count} kiwis.\")"
   ]
  },
  {
   "cell_type": "markdown",
   "metadata": {
    "id": "Uu27GSWYCVZ_"
   },
   "source": [
    "## <br>Example 3 - fstrings with lists"
   ]
  },
  {
   "cell_type": "markdown",
   "metadata": {
    "id": "r-9Y8FL9CVZ_"
   },
   "source": [
    "Let's see how fstrings handle lists."
   ]
  },
  {
   "cell_type": "code",
   "execution_count": 36,
   "metadata": {
    "id": "6K9k7IB3CVZ_"
   },
   "outputs": [],
   "source": [
    "cookies = [\"Oreo\", \"snickerdoodle\", \"oatmeal chocolate chip\"]"
   ]
  },
  {
   "cell_type": "code",
   "execution_count": 37,
   "metadata": {
    "colab": {
     "base_uri": "https://localhost:8080/"
    },
    "executionInfo": {
     "elapsed": 152,
     "status": "ok",
     "timestamp": 1643908362463,
     "user": {
      "displayName": "Craig Group",
      "photoUrl": "https://lh3.googleusercontent.com/a-/AOh14GjJlzY0zYyBqtvLv2_RoJ8s67jfBlUr5NW1mc-6sA=s64",
      "userId": "15034791967993784526"
     },
     "user_tz": 300
    },
    "id": "3ROFtIzpCVZ_",
    "outputId": "ba3cb219-f6bd-4c11-99f1-794ab823bf03"
   },
   "outputs": [
    {
     "name": "stdout",
     "output_type": "stream",
     "text": [
      "The cookies I ate were ['Oreo', 'snickerdoodle', 'oatmeal chocolate chip'].\n"
     ]
    }
   ],
   "source": [
    "print(f\"The cookies I ate were {cookies}.\")"
   ]
  },
  {
   "cell_type": "markdown",
   "metadata": {
    "id": "1eMGEu8kCVZ_"
   },
   "source": [
    "<br><br>Instead we can index the items in the list:"
   ]
  },
  {
   "cell_type": "code",
   "execution_count": 38,
   "metadata": {
    "colab": {
     "base_uri": "https://localhost:8080/"
    },
    "executionInfo": {
     "elapsed": 206,
     "status": "ok",
     "timestamp": 1643908368279,
     "user": {
      "displayName": "Craig Group",
      "photoUrl": "https://lh3.googleusercontent.com/a-/AOh14GjJlzY0zYyBqtvLv2_RoJ8s67jfBlUr5NW1mc-6sA=s64",
      "userId": "15034791967993784526"
     },
     "user_tz": 300
    },
    "id": "VwjnnBueCVZ_",
    "outputId": "50ec97a6-843f-4bcf-fdc7-039d4f012a76"
   },
   "outputs": [
    {
     "name": "stdout",
     "output_type": "stream",
     "text": [
      "The cookies I ate were Oreo, snickerdoodle, and oatmeal chocolate chip.\n"
     ]
    }
   ],
   "source": [
    "print(f\"The cookies I ate were {cookies[0]}, {cookies[1]}, and {cookies[2]}.\")"
   ]
  },
  {
   "cell_type": "markdown",
   "metadata": {
    "id": "OBFXkgkJCVZ_"
   },
   "source": [
    "<br><br>Sometimes we don't know how many items will be in a list (and no, `*cookies` doesn't work to unpack a list in an fstring)"
   ]
  },
  {
   "cell_type": "markdown",
   "metadata": {
    "id": "X0L7JNOiCVZ_"
   },
   "source": [
    "Let's review list indexing and the `join()` function."
   ]
  },
  {
   "cell_type": "code",
   "execution_count": 39,
   "metadata": {
    "id": "x3jti3eYCVaA"
   },
   "outputs": [],
   "source": [
    "cookies = [\"Oreo\", \"snickerdoodle\", \"oatmeal chocolate chip\"]"
   ]
  },
  {
   "cell_type": "markdown",
   "metadata": {
    "id": "SF333uuZCVaA"
   },
   "source": [
    "<br>Before running the cells below, take a minute to think - what will these print?"
   ]
  },
  {
   "cell_type": "code",
   "execution_count": 40,
   "metadata": {
    "colab": {
     "base_uri": "https://localhost:8080/"
    },
    "executionInfo": {
     "elapsed": 174,
     "status": "ok",
     "timestamp": 1643908386817,
     "user": {
      "displayName": "Craig Group",
      "photoUrl": "https://lh3.googleusercontent.com/a-/AOh14GjJlzY0zYyBqtvLv2_RoJ8s67jfBlUr5NW1mc-6sA=s64",
      "userId": "15034791967993784526"
     },
     "user_tz": 300
    },
    "id": "-n67yRG7CVaA",
    "outputId": "7022854d-31ad-4682-9ea2-5d17c022572c"
   },
   "outputs": [
    {
     "data": {
      "text/plain": [
       "['snickerdoodle', 'oatmeal chocolate chip']"
      ]
     },
     "execution_count": 40,
     "metadata": {},
     "output_type": "execute_result"
    }
   ],
   "source": [
    "cookies[1:]"
   ]
  },
  {
   "cell_type": "code",
   "execution_count": 41,
   "metadata": {
    "colab": {
     "base_uri": "https://localhost:8080/"
    },
    "executionInfo": {
     "elapsed": 172,
     "status": "ok",
     "timestamp": 1643908395886,
     "user": {
      "displayName": "Craig Group",
      "photoUrl": "https://lh3.googleusercontent.com/a-/AOh14GjJlzY0zYyBqtvLv2_RoJ8s67jfBlUr5NW1mc-6sA=s64",
      "userId": "15034791967993784526"
     },
     "user_tz": 300
    },
    "id": "QvuDc8LiCVaA",
    "outputId": "aeacbd6e-0b36-4cb0-c40e-9d7ced1222d6"
   },
   "outputs": [
    {
     "data": {
      "text/plain": [
       "['Oreo', 'snickerdoodle']"
      ]
     },
     "execution_count": 41,
     "metadata": {},
     "output_type": "execute_result"
    }
   ],
   "source": [
    "cookies[:-1]"
   ]
  },
  {
   "cell_type": "markdown",
   "metadata": {
    "id": "M0EFyI61CVaA"
   },
   "source": [
    "<br><br>If we don't specify an index after the `:` if will print to the end."
   ]
  },
  {
   "cell_type": "markdown",
   "metadata": {
    "id": "m5uKqat1CVaA"
   },
   "source": [
    "If we don't specify an index before the `:` if will print from the beginning."
   ]
  },
  {
   "cell_type": "markdown",
   "metadata": {
    "id": "DzxblHBOCVaA"
   },
   "source": [
    "<br><br>The `join()` function is handy for creating a string out of a list of unknown length."
   ]
  },
  {
   "cell_type": "code",
   "execution_count": 42,
   "metadata": {
    "colab": {
     "base_uri": "https://localhost:8080/",
     "height": 35
    },
    "executionInfo": {
     "elapsed": 192,
     "status": "ok",
     "timestamp": 1643908414487,
     "user": {
      "displayName": "Craig Group",
      "photoUrl": "https://lh3.googleusercontent.com/a-/AOh14GjJlzY0zYyBqtvLv2_RoJ8s67jfBlUr5NW1mc-6sA=s64",
      "userId": "15034791967993784526"
     },
     "user_tz": 300
    },
    "id": "6Xm2KZjDCVaA",
    "outputId": "80c2b8ed-d3bf-475c-df6e-f15be4b0ffd4"
   },
   "outputs": [
    {
     "data": {
      "text/plain": [
       "'Oreosnickerdoodleoatmeal chocolate chip'"
      ]
     },
     "execution_count": 42,
     "metadata": {},
     "output_type": "execute_result"
    }
   ],
   "source": [
    "\"\".join(cookies)"
   ]
  },
  {
   "cell_type": "code",
   "execution_count": 43,
   "metadata": {
    "colab": {
     "base_uri": "https://localhost:8080/",
     "height": 35
    },
    "executionInfo": {
     "elapsed": 173,
     "status": "ok",
     "timestamp": 1643908422575,
     "user": {
      "displayName": "Craig Group",
      "photoUrl": "https://lh3.googleusercontent.com/a-/AOh14GjJlzY0zYyBqtvLv2_RoJ8s67jfBlUr5NW1mc-6sA=s64",
      "userId": "15034791967993784526"
     },
     "user_tz": 300
    },
    "id": "xUgbsJ2vCVaA",
    "outputId": "476b7358-ba94-41fb-ed51-1d8ada5a7014"
   },
   "outputs": [
    {
     "data": {
      "text/plain": [
       "'Oreo snickerdoodle oatmeal chocolate chip'"
      ]
     },
     "execution_count": 43,
     "metadata": {},
     "output_type": "execute_result"
    }
   ],
   "source": [
    "\" \".join(cookies)"
   ]
  },
  {
   "cell_type": "code",
   "execution_count": 44,
   "metadata": {
    "colab": {
     "base_uri": "https://localhost:8080/",
     "height": 35
    },
    "executionInfo": {
     "elapsed": 156,
     "status": "ok",
     "timestamp": 1643908430972,
     "user": {
      "displayName": "Craig Group",
      "photoUrl": "https://lh3.googleusercontent.com/a-/AOh14GjJlzY0zYyBqtvLv2_RoJ8s67jfBlUr5NW1mc-6sA=s64",
      "userId": "15034791967993784526"
     },
     "user_tz": 300
    },
    "id": "B1BvlK5DCVaA",
    "outputId": "f6a576b0-0cea-4de0-c365-93186df41dbe"
   },
   "outputs": [
    {
     "data": {
      "text/plain": [
       "'Oreo, snickerdoodle, oatmeal chocolate chip'"
      ]
     },
     "execution_count": 44,
     "metadata": {},
     "output_type": "execute_result"
    }
   ],
   "source": [
    "\", \".join(cookies)"
   ]
  },
  {
   "cell_type": "markdown",
   "metadata": {
    "id": "Hjc9nhXBCVaB"
   },
   "source": [
    "<br>Combine `join()` with indexing:"
   ]
  },
  {
   "cell_type": "code",
   "execution_count": 45,
   "metadata": {
    "colab": {
     "base_uri": "https://localhost:8080/",
     "height": 35
    },
    "executionInfo": {
     "elapsed": 130,
     "status": "ok",
     "timestamp": 1643908436184,
     "user": {
      "displayName": "Craig Group",
      "photoUrl": "https://lh3.googleusercontent.com/a-/AOh14GjJlzY0zYyBqtvLv2_RoJ8s67jfBlUr5NW1mc-6sA=s64",
      "userId": "15034791967993784526"
     },
     "user_tz": 300
    },
    "id": "wvhk49CPCVaB",
    "outputId": "56a82141-31a3-4b7b-fdc4-11df2fe33e55"
   },
   "outputs": [
    {
     "data": {
      "text/plain": [
       "'Oreo, snickerdoodle'"
      ]
     },
     "execution_count": 45,
     "metadata": {},
     "output_type": "execute_result"
    }
   ],
   "source": [
    "\", \".join(cookies[:-1])"
   ]
  },
  {
   "cell_type": "markdown",
   "metadata": {
    "id": "hK0ppZDcCVaC"
   },
   "source": [
    "<br><br>Now we can combine that to make a nice, neat sentence:"
   ]
  },
  {
   "cell_type": "code",
   "execution_count": 46,
   "metadata": {
    "colab": {
     "base_uri": "https://localhost:8080/",
     "height": 132
    },
    "executionInfo": {
     "elapsed": 161,
     "status": "error",
     "timestamp": 1643908556726,
     "user": {
      "displayName": "Craig Group",
      "photoUrl": "https://lh3.googleusercontent.com/a-/AOh14GjJlzY0zYyBqtvLv2_RoJ8s67jfBlUr5NW1mc-6sA=s64",
      "userId": "15034791967993784526"
     },
     "user_tz": 300
    },
    "id": "Zx0SCSGVCVaC",
    "outputId": "eb136a30-da1d-485d-eaad-269ba5a433d5"
   },
   "outputs": [
    {
     "ename": "SyntaxError",
     "evalue": "invalid syntax (<ipython-input-46-0f2d478c91aa>, line 1)",
     "output_type": "error",
     "traceback": [
      "\u001b[0;36m  File \u001b[0;32m\"<ipython-input-46-0f2d478c91aa>\"\u001b[0;36m, line \u001b[0;32m1\u001b[0m\n\u001b[0;31m    print(f\"The cookies I ate were \", {\"\".join(cookies[:-1])}\" , and\" {cookies[-1]}.\")\u001b[0m\n\u001b[0m                                                             ^\u001b[0m\n\u001b[0;31mSyntaxError\u001b[0m\u001b[0;31m:\u001b[0m invalid syntax\n"
     ]
    }
   ],
   "source": [
    "print(f\"The cookies I ate were \", {\"\".join(cookies[:-1])}\" , and\" {cookies[-1]}.\")"
   ]
  },
  {
   "cell_type": "markdown",
   "metadata": {
    "id": "lnezmnkLCVaC"
   },
   "source": [
    "<br><br><br>Uh-oh! When referencing a string inside a string, use single quotes `'` inside double quotes `\"`."
   ]
  },
  {
   "cell_type": "code",
   "execution_count": 47,
   "metadata": {
    "colab": {
     "base_uri": "https://localhost:8080/"
    },
    "executionInfo": {
     "elapsed": 143,
     "status": "ok",
     "timestamp": 1643908570121,
     "user": {
      "displayName": "Craig Group",
      "photoUrl": "https://lh3.googleusercontent.com/a-/AOh14GjJlzY0zYyBqtvLv2_RoJ8s67jfBlUr5NW1mc-6sA=s64",
      "userId": "15034791967993784526"
     },
     "user_tz": 300
    },
    "id": "Cdq-dKgSCVaC",
    "outputId": "2aef28b8-c78c-47e6-8597-1626de57dd14"
   },
   "outputs": [
    {
     "name": "stdout",
     "output_type": "stream",
     "text": [
      "The cookies I ate were Oreo, snickerdoodle, and oatmeal chocolate chip.\n"
     ]
    }
   ],
   "source": [
    "print(f\"The cookies I ate were {', '.join(cookies[:-1])}, and {cookies[-1]}.\")"
   ]
  },
  {
   "cell_type": "markdown",
   "metadata": {
    "id": "Oep2BwQUCVZ-"
   },
   "source": [
    "<br><br>\n",
    "<span style=\"color:red\"> ** Exercise 6 ** </span> "
   ]
  },
  {
   "cell_type": "code",
   "execution_count": null,
   "metadata": {
    "id": "UM5d_GlVCVaC"
   },
   "outputs": [],
   "source": [
    "name = \"Colby\"\n",
    "grades = [\"A\", \"B+\", \"B-\", \"A+\", \"B\"]"
   ]
  },
  {
   "cell_type": "markdown",
   "metadata": {
    "id": "-FkC2XLUCVaC"
   },
   "source": [
    "<br>Write an fstring to say Dear Colby, Your exam grades were A, B+, B-, and A+, and your participation grade was a B."
   ]
  },
  {
   "cell_type": "code",
   "execution_count": null,
   "metadata": {
    "colab": {
     "base_uri": "https://localhost:8080/"
    },
    "executionInfo": {
     "elapsed": 153,
     "status": "ok",
     "timestamp": 1643909054530,
     "user": {
      "displayName": "Craig Group",
      "photoUrl": "https://lh3.googleusercontent.com/a-/AOh14GjJlzY0zYyBqtvLv2_RoJ8s67jfBlUr5NW1mc-6sA=s64",
      "userId": "15034791967993784526"
     },
     "user_tz": 300
    },
    "id": "c5nHq9UzCVaC",
    "outputId": "0c1034f4-2876-4380-bb67-078d83e8edfc"
   },
   "outputs": [],
   "source": [
    "\n",
    "letter = \n",
    "print(letter)"
   ]
  },
  {
   "cell_type": "markdown",
   "metadata": {
    "id": "J5U-MbnlCVaC"
   },
   "source": [
    "## <br><br>Example 4 - fstrings with dictionaries"
   ]
  },
  {
   "cell_type": "markdown",
   "metadata": {
    "id": "EoDwIF2tCVaC"
   },
   "source": [
    "Let's practice using fstrings with dictionaries."
   ]
  },
  {
   "cell_type": "markdown",
   "metadata": {
    "id": "K0YK4O8JCVaC"
   },
   "source": [
    "Here is a **list of dictionaries** with info about six experiments:"
   ]
  },
  {
   "cell_type": "code",
   "execution_count": null,
   "metadata": {
    "id": "xntdFa6cCVaD"
   },
   "outputs": [],
   "source": [
    "results_list = [{\"run\": 1, \"date\": \"013020\", \"condition\": \"control\", \"result\": 1.3849}, \n",
    "                {\"run\": 1, \"date\": \"013020\", \"condition\": \"cold\", \"result\": .8309},\n",
    "                {\"run\": 2, \"date\": \"013020\", \"condition\": \"control\", \"result\": 1.1384},\n",
    "                {\"run\": 2, \"date\": \"013020\", \"condition\": \"cold\", \"result\": 1.0867},\n",
    "                {\"run\": 3, \"date\": \"013020\", \"condition\": \"control\", \"result\": .8479},\n",
    "                {\"run\": 3, \"date\": \"013020\", \"condition\": \"cold\", \"result\": .7238}]"
   ]
  },
  {
   "cell_type": "markdown",
   "metadata": {
    "id": "4_xc19tFCVaD"
   },
   "source": [
    "<br>We want to create a results file for each experiment. (So we need to loop through the list.)<br>To create a unique identifier for each result, we will combine the condition, run number, and the word \"results\", in addition to a file extension."
   ]
  },
  {
   "cell_type": "code",
   "execution_count": null,
   "metadata": {
    "colab": {
     "base_uri": "https://localhost:8080/"
    },
    "executionInfo": {
     "elapsed": 212,
     "status": "ok",
     "timestamp": 1643909078235,
     "user": {
      "displayName": "Craig Group",
      "photoUrl": "https://lh3.googleusercontent.com/a-/AOh14GjJlzY0zYyBqtvLv2_RoJ8s67jfBlUr5NW1mc-6sA=s64",
      "userId": "15034791967993784526"
     },
     "user_tz": 300
    },
    "id": "vEbKxpfdCVaD",
    "outputId": "e57af3b6-2e92-4269-c93e-ce00d537f6ff"
   },
   "outputs": [],
   "source": [
    "for i in results_list:\n",
    "    #remember that each i is a dictionary\n",
    "    new_filename = f\"{i['condition']}_{i['run']}_results.txt\"\n",
    "    print(new_filename)"
   ]
  },
  {
   "cell_type": "markdown",
   "metadata": {
    "id": "Oep2BwQUCVZ-"
   },
   "source": [
    "<br><br>\n",
    "<span style=\"color:red\"> ** Exercise 7 ** </span>  "
   ]
  },
  {
   "cell_type": "code",
   "execution_count": null,
   "metadata": {
    "id": "yNECd5r2CVaD"
   },
   "outputs": [],
   "source": [
    "results_dicts = [{\"run\": 1, \"date\": \"013020\", \"condition\": \"control\", \"result\": 1.3849}, \n",
    "                 {\"run\": 1, \"date\": \"013020\", \"condition\": \"cold\", \"result\": .8309},\n",
    "                 {\"run\": 2, \"date\": \"013020\", \"condition\": \"control\", \"result\": 1.1384},\n",
    "                 {\"run\": 2, \"date\": \"013020\", \"condition\": \"cold\", \"result\": 1.0867},\n",
    "                 {\"run\": 3, \"date\": \"013020\", \"condition\": \"control\", \"result\": .8479},\n",
    "                 {\"run\": 3, \"date\": \"013020\", \"condition\": \"cold\", \"result\": .7238}]"
   ]
  },
  {
   "cell_type": "markdown",
   "metadata": {
    "id": "7XgkdJIsCVaD"
   },
   "source": [
    "For each experiment, print a complete sentence with the date, run, condition, and result. Use the `round()` function to round the result to two decimal places."
   ]
  },
  {
   "cell_type": "markdown",
   "metadata": {
    "id": "N2D8sca0CVaD"
   },
   "source": [
    "The sentence for the first experiment should read: On 013020, I conducted a control experiment; the result from run 1 was 1.38."
   ]
  },
  {
   "cell_type": "markdown",
   "metadata": {
    "id": "9PE7K43TCVaD"
   },
   "source": [
    "*Don't forget that you need to use single quotes inside double quotes.*"
   ]
  },
  {
   "cell_type": "code",
   "execution_count": null,
   "metadata": {
    "id": "K8s1ooo8CVaD"
   },
   "outputs": [],
   "source": [
    "for i in results_dicts:\n",
    "    #remember that each i is a dictionary\n",
    "    sentence = f\"\"\n",
    "    print(sentence)"
   ]
  },
  {
   "cell_type": "code",
   "execution_count": null,
   "metadata": {},
   "outputs": [],
   "source": []
  }
 ],
 "metadata": {
  "colab": {
   "collapsed_sections": [],
   "name": "Copy of fstrings.ipynb",
   "provenance": [
    {
     "file_id": "1-2nNwB_1BxBdY48xej0bURPkpVNWv-R1",
     "timestamp": 1643907762091
    },
    {
     "file_id": "https://github.com/nuitrcs/NextStepsInPython/blob/master/fstrings/fstrings.ipynb",
     "timestamp": 1629219327542
    }
   ]
  },
  "kernelspec": {
   "display_name": "Python 3 (ipykernel)",
   "language": "python",
   "name": "python3"
  },
  "language_info": {
   "codemirror_mode": {
    "name": "ipython",
    "version": 3
   },
   "file_extension": ".py",
   "mimetype": "text/x-python",
   "name": "python",
   "nbconvert_exporter": "python",
   "pygments_lexer": "ipython3",
   "version": "3.8.8"
  }
 },
 "nbformat": 4,
 "nbformat_minor": 4
}
